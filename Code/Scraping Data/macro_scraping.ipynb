{
  "cells": [
    {
      "cell_type": "markdown",
      "metadata": {
        "id": "gV4Y9mZg5YeY"
      },
      "source": [
        "Fed Funds Rate (US) -"
      ]
    },
    {
      "cell_type": "code",
      "execution_count": null,
      "metadata": {
        "colab": {
          "base_uri": "https://localhost:8080/"
        },
        "id": "Apqt5lU65Y8I",
        "outputId": "219aa5ff-756f-4946-8fe3-af81c02f0c5c"
      },
      "outputs": [
        {
          "name": "stdout",
          "output_type": "stream",
          "text": [
            "2025-01-01    4.33\n",
            "2025-02-01    4.33\n",
            "2025-03-01    4.33\n",
            "2025-04-01    4.33\n",
            "2025-05-01    4.33\n",
            "dtype: float64\n"
          ]
        }
      ],
      "source": [
        "from fredapi import Fred\n",
        "\n",
        "# Masukkan API key yang sudah kamu dapat\n",
        "api_key = 'abcdaf0484979ed62e2e08ba799112e3'\n",
        "fred = Fred(api_key=api_key)\n",
        "\n",
        "# Ambil data Fed Funds Rate\n",
        "fed_funds_rate = fred.get_series('FEDFUNDS')\n",
        "\n",
        "# Tampilkan 5 data terakhir\n",
        "print(fed_funds_rate.tail())\n",
        "\n",
        "# Simpan data ke file CSV supaya bisa dipakai lagi\n",
        "fed_funds_rate.to_csv('fed_funds_rate.csv', header=['Fed Funds Rate'])"
      ]
    },
    {
      "cell_type": "markdown",
      "metadata": {
        "id": "xs88CPJu57PQ"
      },
      "source": [
        "10Y Treasury Yield (US) -"
      ]
    },
    {
      "cell_type": "code",
      "execution_count": null,
      "metadata": {
        "colab": {
          "base_uri": "https://localhost:8080/"
        },
        "id": "A1h-laPH5_Je",
        "outputId": "433c83ce-6096-490a-b13d-55f68ab653aa"
      },
      "outputs": [
        {
          "name": "stdout",
          "output_type": "stream",
          "text": [
            "2025-05-30    4.41\n",
            "2025-06-02    4.46\n",
            "2025-06-03    4.46\n",
            "2025-06-04    4.37\n",
            "2025-06-05    4.40\n",
            "dtype: float64\n"
          ]
        }
      ],
      "source": [
        "from fredapi import Fred\n",
        "\n",
        "api_key = 'abcdaf0484979ed62e2e08ba799112e3'\n",
        "fred = Fred(api_key=api_key)\n",
        "\n",
        "# Ambil data 10Y Treasury Yield\n",
        "ten_year_yield = fred.get_series('DGS10')\n",
        "\n",
        "# Tampilkan 5 data terakhir\n",
        "print(ten_year_yield.tail())\n",
        "\n",
        "# Simpan ke CSV\n",
        "ten_year_yield.to_csv('10y_treasury_yield.csv', header=['10Y Treasury Yield'])\n"
      ]
    },
    {
      "cell_type": "markdown",
      "metadata": {
        "id": "SDEIgXRr6Smb"
      },
      "source": [
        "CPI (US Consumer Price Index) -"
      ]
    },
    {
      "cell_type": "code",
      "execution_count": null,
      "metadata": {
        "colab": {
          "base_uri": "https://localhost:8080/"
        },
        "id": "wDApNO1Y6TkM",
        "outputId": "61459d2c-1634-405f-fc06-6b7ef1b4738a"
      },
      "outputs": [
        {
          "name": "stdout",
          "output_type": "stream",
          "text": [
            "2024-12-01    317.603\n",
            "2025-01-01    319.086\n",
            "2025-02-01    319.775\n",
            "2025-03-01    319.615\n",
            "2025-04-01    320.321\n",
            "dtype: float64\n"
          ]
        }
      ],
      "source": [
        "from fredapi import Fred\n",
        "\n",
        "api_key = 'abcdaf0484979ed62e2e08ba799112e3'\n",
        "fred = Fred(api_key=api_key)\n",
        "\n",
        "# Ambil data CPI\n",
        "cpi = fred.get_series('CPIAUCSL')\n",
        "\n",
        "# Tampilkan 5 data terakhir\n",
        "print(cpi.tail())\n",
        "\n",
        "# Simpan ke CSV\n",
        "cpi.to_csv('cpi_us.csv', header=['CPI US'])\n"
      ]
    },
    {
      "cell_type": "markdown",
      "metadata": {
        "id": "gr-xlZ-u6pi5"
      },
      "source": [
        "Core PCE -"
      ]
    },
    {
      "cell_type": "code",
      "execution_count": null,
      "metadata": {
        "colab": {
          "base_uri": "https://localhost:8080/"
        },
        "id": "MiPAC-SE6r4P",
        "outputId": "3b51520f-fe76-4d3f-eed7-9c792f48a0f0"
      },
      "outputs": [
        {
          "name": "stdout",
          "output_type": "stream",
          "text": [
            "2024-12-01    123.980\n",
            "2025-01-01    124.384\n",
            "2025-02-01    124.962\n",
            "2025-03-01    125.076\n",
            "2025-04-01    125.221\n",
            "dtype: float64\n"
          ]
        }
      ],
      "source": [
        "from fredapi import Fred\n",
        "\n",
        "api_key = 'abcdaf0484979ed62e2e08ba799112e3'\n",
        "fred = Fred(api_key=api_key)\n",
        "\n",
        "# Ambil data Core PCE\n",
        "core_pce = fred.get_series('PCEPILFE')\n",
        "\n",
        "# Tampilkan 5 data terakhir\n",
        "print(core_pce.tail())\n",
        "\n",
        "# Simpan ke CSV\n",
        "core_pce.to_csv('core_pce.csv', header=['Core PCE'])\n"
      ]
    },
    {
      "cell_type": "markdown",
      "metadata": {
        "id": "HEEvp6Qe6-LC"
      },
      "source": [
        "Federal Reserve Balance Sheet -"
      ]
    },
    {
      "cell_type": "code",
      "execution_count": null,
      "metadata": {
        "colab": {
          "base_uri": "https://localhost:8080/"
        },
        "id": "s9yq2e6669L6",
        "outputId": "11e7907a-ace1-4581-b04d-1d72be44bbb7"
      },
      "outputs": [
        {
          "name": "stdout",
          "output_type": "stream",
          "text": [
            "2025-05-07    6710889.0\n",
            "2025-05-14    6713270.0\n",
            "2025-05-21    6688726.0\n",
            "2025-05-28    6673244.0\n",
            "2025-06-04    6672885.0\n",
            "dtype: float64\n"
          ]
        }
      ],
      "source": [
        "from fredapi import Fred\n",
        "\n",
        "api_key = 'abcdaf0484979ed62e2e08ba799112e3'\n",
        "fred = Fred(api_key=api_key)\n",
        "\n",
        "# Ambil data Total Assets Federal Reserve\n",
        "fed_balance_sheet = fred.get_series('WALCL')\n",
        "\n",
        "# Tampilkan 5 data terakhir\n",
        "print(fed_balance_sheet.tail())\n",
        "\n",
        "# Simpan ke CSV\n",
        "fed_balance_sheet.to_csv('fed_balance_sheet.csv', header=['Fed Balance Sheet'])\n"
      ]
    },
    {
      "cell_type": "code",
      "execution_count": null,
      "metadata": {
        "colab": {
          "base_uri": "https://localhost:8080/"
        },
        "id": "HvxCuN4t7anL",
        "outputId": "0e5d7d9e-e958-4f47-9b22-2df71fd7a634"
      },
      "outputs": [
        {
          "name": "stdout",
          "output_type": "stream",
          "text": [
            "2025-05-30    18.57\n",
            "2025-06-02    18.36\n",
            "2025-06-03    17.69\n",
            "2025-06-04    17.61\n",
            "2025-06-05    18.48\n",
            "dtype: float64\n"
          ]
        }
      ],
      "source": [
        "from fredapi import Fred\n",
        "\n",
        "api_key = 'abcdaf0484979ed62e2e08ba799112e3'\n",
        "fred = Fred(api_key=api_key)\n",
        "\n",
        "# Ambil data VIX Index\n",
        "vix = fred.get_series('VIXCLS')\n",
        "\n",
        "# Tampilkan 5 data terakhir\n",
        "print(vix.tail())\n",
        "\n",
        "# Simpan ke CSV\n",
        "vix.to_csv('vix_index.csv', header=['VIX Index'])\n"
      ]
    },
    {
      "cell_type": "markdown",
      "metadata": {
        "id": "U6a1TeYR7yBp"
      },
      "source": [
        "DXY (US Dollar Index) -"
      ]
    },
    {
      "cell_type": "code",
      "execution_count": null,
      "metadata": {
        "colab": {
          "base_uri": "https://localhost:8080/"
        },
        "id": "X1m60bey7i3Y",
        "outputId": "1f5766a3-3170-4c8f-9a7b-0727119258fc"
      },
      "outputs": [
        {
          "name": "stdout",
          "output_type": "stream",
          "text": [
            "                                Open       High        Low      Close  Volume  \\\n",
            "Date                                                                            \n",
            "2025-06-02 00:00:00-04:00  99.410004  99.419998  98.610001  98.699997       0   \n",
            "2025-06-03 00:00:00-04:00  98.589996  99.330002  98.580002  99.250000       0   \n",
            "2025-06-04 00:00:00-04:00  99.180000  99.389999  98.669998  98.790001       0   \n",
            "2025-06-05 00:00:00-04:00  98.800003  98.940002  98.349998  98.739998       0   \n",
            "2025-06-06 00:00:00-04:00  98.698997  99.357002  98.654999  99.202003       0   \n",
            "\n",
            "                           Dividends  Stock Splits  \n",
            "Date                                                \n",
            "2025-06-02 00:00:00-04:00        0.0           0.0  \n",
            "2025-06-03 00:00:00-04:00        0.0           0.0  \n",
            "2025-06-04 00:00:00-04:00        0.0           0.0  \n",
            "2025-06-05 00:00:00-04:00        0.0           0.0  \n",
            "2025-06-06 00:00:00-04:00        0.0           0.0  \n"
          ]
        }
      ],
      "source": [
        "import yfinance as yf\n",
        "\n",
        "# Ticker DXY di Yahoo Finance adalah 'DX-Y.NYB'\n",
        "dxy = yf.Ticker('DX-Y.NYB')\n",
        "\n",
        "# Ambil data historis harian, misal 1 tahun terakhir\n",
        "data = dxy.history(period='10y')\n",
        "\n",
        "print(data.tail())\n",
        "\n",
        "# Simpan ke CSV\n",
        "data.to_csv('dxy_data.csv')"
      ]
    },
    {
      "cell_type": "markdown",
      "metadata": {
        "id": "IXqaKDTT8Tv-"
      },
      "source": [
        "Global M2 Supply -"
      ]
    },
    {
      "cell_type": "code",
      "execution_count": null,
      "metadata": {
        "id": "NFlFQB6J8UbZ"
      },
      "outputs": [],
      "source": [
        "m2_us = fred.get_series('M2SL')\n",
        "m2_euro = fred.get_series('MYAGM2EZM196N')\n",
        "m2_japan = fred.get_series('MYAGM2JPM189N')\n",
        "import pandas as pd\n",
        "\n",
        "# Gabungkan dan sejajarkan M2 data\n",
        "m2_data = pd.concat([m2_us, m2_euro, m2_japan], axis=1)\n",
        "m2_data.columns = ['US M2', 'Euro M2', 'Japan M2']\n",
        "\n",
        "# Hitung estimasi Global M2 (jumlah nominal atau indeks)\n",
        "m2_data['Estimated Global M2'] = m2_data.sum(axis=1)\n",
        "\n",
        "# Simpan\n",
        "m2_data.to_csv('estimated_global_m2.csv')\n"
      ]
    },
    {
      "cell_type": "markdown",
      "metadata": {
        "id": "KoeOjATm8yPC"
      },
      "source": [
        "Nasdaq Composite / QQQ ETF -"
      ]
    },
    {
      "cell_type": "code",
      "execution_count": null,
      "metadata": {
        "colab": {
          "base_uri": "https://localhost:8080/"
        },
        "id": "Yv5fU50L86RG",
        "outputId": "9023da21-b715-4865-e379-3457fc4bcb6d"
      },
      "outputs": [
        {
          "output_type": "stream",
          "name": "stdout",
          "text": [
            "YF.download() has changed argument auto_adjust default to True\n"
          ]
        },
        {
          "output_type": "stream",
          "name": "stderr",
          "text": [
            "[*********************100%***********************]  1 of 1 completed\n",
            "[*********************100%***********************]  1 of 1 completed\n"
          ]
        },
        {
          "output_type": "stream",
          "name": "stdout",
          "text": [
            "Price              Close          High           Low          Open      Volume\n",
            "Ticker             ^IXIC         ^IXIC         ^IXIC         ^IXIC       ^IXIC\n",
            "Date                                                                          \n",
            "2025-06-02  19242.609375  19252.710938  18985.300781  19063.060547  7779940000\n",
            "2025-06-03  19398.960938  19459.279297  19224.699219  19288.660156  7990230000\n",
            "2025-06-04  19460.490234  19493.449219  19359.089844  19434.939453  7695660000\n",
            "2025-06-05  19298.449219  19610.509766  19226.220703  19518.199219  8782360000\n",
            "2025-06-06  19529.949219  19593.179688  19464.839844  19526.990234  7291590000\n",
            "Price            Close        High         Low        Open    Volume\n",
            "Ticker             QQQ         QQQ         QQQ         QQQ       QQQ\n",
            "Date                                                                \n",
            "2025-06-02  523.210022  523.450012  515.969971  517.239990  44762800\n",
            "2025-06-03  527.299988  528.739990  522.690002  523.559998  44070300\n",
            "2025-06-04  528.770020  529.840027  525.969971  528.010010  41359300\n",
            "2025-06-05  524.789978  533.049988  522.659973  530.179993  61031200\n",
            "2025-06-06  529.919983  531.799988  528.210022  530.000000  42400400\n"
          ]
        }
      ],
      "source": [
        "import yfinance as yf\n",
        "\n",
        "# Ambil data Nasdaq Composite (^IXIC)\n",
        "nasdaq = yf.download('^IXIC', start='2017-08-16', end='2025-06-08')\n",
        "\n",
        "# Ambil data QQQ ETF\n",
        "qqq = yf.download('QQQ', start='2017-08-16', end='2025-06-08')\n",
        "\n",
        "# Simpan ke CSV\n",
        "nasdaq.to_csv('nasdaq_composite.csv')\n",
        "qqq.to_csv('qqq_etf.csv')\n",
        "\n",
        "print(nasdaq.tail())\n",
        "print(qqq.tail())\n",
        "\n"
      ]
    },
    {
      "cell_type": "markdown",
      "metadata": {
        "id": "U9pFo1H99wSV"
      },
      "source": [
        "Gold Price -"
      ]
    },
    {
      "cell_type": "code",
      "execution_count": null,
      "metadata": {
        "colab": {
          "base_uri": "https://localhost:8080/"
        },
        "id": "kZMD24pL9vo-",
        "outputId": "8b761e2e-2522-4191-a93b-04705964b99b"
      },
      "outputs": [
        {
          "name": "stdout",
          "output_type": "stream",
          "text": [
            "2024-12-01    100.0\n",
            "2025-01-01    100.7\n",
            "2025-02-01    109.9\n",
            "2025-03-01    114.1\n",
            "2025-04-01    117.0\n",
            "dtype: float64\n"
          ]
        }
      ],
      "source": [
        "from fredapi import Fred\n",
        "\n",
        "api_key = 'abcdaf0484979ed62e2e08ba799112e3'\n",
        "fred = Fred(api_key=api_key)\n",
        "\n",
        "# Ambil harga emas\n",
        "gold_price = fred.get_series('IR14270')\n",
        "\n",
        "# Tampilkan 5 data terakhir\n",
        "print(gold_price.tail())\n",
        "\n",
        "# Simpan ke CSV\n",
        "gold_price.to_csv('gold_price.csv', header=['Gold Price'])\n"
      ]
    },
    {
      "cell_type": "markdown",
      "metadata": {
        "id": "BCwUzGPM-IWU"
      },
      "source": [
        "Oil Price (Brent/WTI) -"
      ]
    },
    {
      "cell_type": "code",
      "execution_count": null,
      "metadata": {
        "colab": {
          "base_uri": "https://localhost:8080/"
        },
        "id": "jDAy3av6-Imj",
        "outputId": "838b3010-4b18-4ccc-a898-4f09c6837295"
      },
      "outputs": [
        {
          "name": "stdout",
          "output_type": "stream",
          "text": [
            "2025-05-27    61.61\n",
            "2025-05-28    62.54\n",
            "2025-05-29    61.66\n",
            "2025-05-30    61.46\n",
            "2025-06-02    63.27\n",
            "dtype: float64\n",
            "2025-05-27    64.32\n",
            "2025-05-28    65.72\n",
            "2025-05-29    64.60\n",
            "2025-05-30    64.32\n",
            "2025-06-02    66.55\n",
            "dtype: float64\n"
          ]
        }
      ],
      "source": [
        "from fredapi import Fred\n",
        "\n",
        "fred = Fred(api_key='abcdaf0484979ed62e2e08ba799112e3')\n",
        "\n",
        "# Ambil data harga minyak WTI\n",
        "wti = fred.get_series('DCOILWTICO')\n",
        "\n",
        "# Ambil data harga minyak Brent\n",
        "brent = fred.get_series('DCOILBRENTEU')\n",
        "\n",
        "# Simpan ke CSV\n",
        "wti.to_csv('oil_price_wti.csv', header=['WTI Price'])\n",
        "brent.to_csv('oil_price_brent.csv', header=['Brent Price'])\n",
        "\n",
        "print(wti.tail())\n",
        "print(brent.tail())\n"
      ]
    },
    {
      "cell_type": "markdown",
      "metadata": {
        "id": "uk7BVCDx-oO_"
      },
      "source": [
        "Google Trends: \"Bitcoin\" -"
      ]
    },
    {
      "cell_type": "code",
      "source": [
        "pip install pytrends"
      ],
      "metadata": {
        "colab": {
          "base_uri": "https://localhost:8080/"
        },
        "id": "1dKxiwONkjuG",
        "outputId": "d9f5c6e0-82fd-4002-b045-bb8cf3de5e64"
      },
      "execution_count": null,
      "outputs": [
        {
          "output_type": "stream",
          "name": "stdout",
          "text": [
            "Collecting pytrends\n",
            "  Downloading pytrends-4.9.2-py3-none-any.whl.metadata (13 kB)\n",
            "Requirement already satisfied: requests>=2.0 in /usr/local/lib/python3.11/dist-packages (from pytrends) (2.32.3)\n",
            "Requirement already satisfied: pandas>=0.25 in /usr/local/lib/python3.11/dist-packages (from pytrends) (2.2.2)\n",
            "Requirement already satisfied: lxml in /usr/local/lib/python3.11/dist-packages (from pytrends) (5.4.0)\n",
            "Requirement already satisfied: numpy>=1.23.2 in /usr/local/lib/python3.11/dist-packages (from pandas>=0.25->pytrends) (2.0.2)\n",
            "Requirement already satisfied: python-dateutil>=2.8.2 in /usr/local/lib/python3.11/dist-packages (from pandas>=0.25->pytrends) (2.9.0.post0)\n",
            "Requirement already satisfied: pytz>=2020.1 in /usr/local/lib/python3.11/dist-packages (from pandas>=0.25->pytrends) (2025.2)\n",
            "Requirement already satisfied: tzdata>=2022.7 in /usr/local/lib/python3.11/dist-packages (from pandas>=0.25->pytrends) (2025.2)\n",
            "Requirement already satisfied: charset-normalizer<4,>=2 in /usr/local/lib/python3.11/dist-packages (from requests>=2.0->pytrends) (3.4.2)\n",
            "Requirement already satisfied: idna<4,>=2.5 in /usr/local/lib/python3.11/dist-packages (from requests>=2.0->pytrends) (3.10)\n",
            "Requirement already satisfied: urllib3<3,>=1.21.1 in /usr/local/lib/python3.11/dist-packages (from requests>=2.0->pytrends) (2.4.0)\n",
            "Requirement already satisfied: certifi>=2017.4.17 in /usr/local/lib/python3.11/dist-packages (from requests>=2.0->pytrends) (2025.4.26)\n",
            "Requirement already satisfied: six>=1.5 in /usr/local/lib/python3.11/dist-packages (from python-dateutil>=2.8.2->pandas>=0.25->pytrends) (1.17.0)\n",
            "Downloading pytrends-4.9.2-py3-none-any.whl (15 kB)\n",
            "Installing collected packages: pytrends\n",
            "Successfully installed pytrends-4.9.2\n"
          ]
        }
      ]
    },
    {
      "cell_type": "code",
      "execution_count": null,
      "metadata": {
        "colab": {
          "base_uri": "https://localhost:8080/"
        },
        "id": "4UXlbhLN-oU1",
        "outputId": "d51f5f22-3492-4c64-dea0-a28f19fc5525"
      },
      "outputs": [
        {
          "output_type": "stream",
          "name": "stdout",
          "text": [
            "            Bitcoin\n",
            "date               \n",
            "2025-02-01       27\n",
            "2025-03-01       27\n",
            "2025-04-01       23\n",
            "2025-05-01       23\n",
            "2025-06-01       19\n"
          ]
        },
        {
          "output_type": "stream",
          "name": "stderr",
          "text": [
            "/usr/local/lib/python3.11/dist-packages/pytrends/request.py:260: FutureWarning: Downcasting object dtype arrays on .fillna, .ffill, .bfill is deprecated and will change in a future version. Call result.infer_objects(copy=False) instead. To opt-in to the future behavior, set `pd.set_option('future.no_silent_downcasting', True)`\n",
            "  df = df.fillna(False)\n"
          ]
        }
      ],
      "source": [
        "from pytrends.request import TrendReq\n",
        "import pandas as pd\n",
        "\n",
        "# Inisialisasi koneksi ke Google Trends\n",
        "pytrends = TrendReq(hl='en-US', tz=360)\n",
        "\n",
        "# Cari tren untuk kata 'Bitcoin'\n",
        "kw_list = [\"Bitcoin\"]\n",
        "pytrends.build_payload(kw_list, cat=0, timeframe='2017-08-17 2025-06-08', geo='', gprop='')\n",
        "\n",
        "# Ambil interest over time\n",
        "data = pytrends.interest_over_time()\n",
        "\n",
        "# Hapus kolom isPartial\n",
        "if 'isPartial' in data.columns:\n",
        "    data = data.drop(columns=['isPartial'])\n",
        "\n",
        "# Simpan ke CSV\n",
        "data.to_csv('google_trends_bitcoin.csv')\n",
        "\n",
        "# Tampilkan 5 data terakhir\n",
        "print(data.tail())\n"
      ]
    },
    {
      "cell_type": "markdown",
      "metadata": {
        "id": "MFA2mh34FrxE"
      },
      "source": [
        "USD/TRY, USD/ARS (Emerging FX) -"
      ]
    },
    {
      "cell_type": "code",
      "execution_count": null,
      "metadata": {
        "colab": {
          "base_uri": "https://localhost:8080/"
        },
        "id": "UC-72XqQFr3H",
        "outputId": "55e039c2-1032-4d0d-ed27-3d1ede7dd51e"
      },
      "outputs": [
        {
          "output_type": "stream",
          "name": "stderr",
          "text": [
            "\r[*********************100%***********************]  1 of 1 completed\n"
          ]
        },
        {
          "output_type": "stream",
          "name": "stdout",
          "text": [
            "✅ Data USD/TRY disimpan sebagai 'usd_try.csv'\n"
          ]
        },
        {
          "output_type": "stream",
          "name": "stderr",
          "text": [
            "\r[*********************100%***********************]  1 of 1 completed"
          ]
        },
        {
          "output_type": "stream",
          "name": "stdout",
          "text": [
            "✅ Data USD/ARS disimpan sebagai 'usd_ars.csv'\n"
          ]
        },
        {
          "output_type": "stream",
          "name": "stderr",
          "text": [
            "\n"
          ]
        }
      ],
      "source": [
        "import yfinance as yf\n",
        "import pandas as pd\n",
        "\n",
        "# Tentukan rentang tanggal\n",
        "start_date = \"2017-08-16\"\n",
        "end_date = \"2025-06-08\"\n",
        "\n",
        "# Ambil data USD/TRY dari Yahoo Finance\n",
        "usd_try = yf.download(\"USDTRY=X\", start=start_date, end=end_date)\n",
        "usd_try.to_csv(\"usd_try.csv\")\n",
        "print(\"✅ Data USD/TRY disimpan sebagai 'usd_try.csv'\")\n",
        "\n",
        "# Ambil data USD/ARS dari Yahoo Finance\n",
        "usd_ars = yf.download(\"USDARS=X\", start=start_date, end=end_date)\n",
        "usd_ars.to_csv(\"usd_ars.csv\")\n",
        "print(\"✅ Data USD/ARS disimpan sebagai 'usd_ars.csv'\")\n"
      ]
    }
  ],
  "metadata": {
    "colab": {
      "provenance": []
    },
    "kernelspec": {
      "display_name": "Python 3",
      "name": "python3"
    },
    "language_info": {
      "name": "python"
    }
  },
  "nbformat": 4,
  "nbformat_minor": 0
}